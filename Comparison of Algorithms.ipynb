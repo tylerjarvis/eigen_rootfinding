{
 "cells": [
  {
   "cell_type": "code",
   "execution_count": 3,
   "metadata": {},
   "outputs": [],
   "source": [
    "import eigen_rootfinding as er\n",
    "import numpy as np\n",
    "from scipy import linalg as la\n",
    "from matplotlib import pyplot as plt\n",
    "import time\n",
    "from tests.variations import *\n",
    "%load_ext autoreload\n",
    "%autoreload 2"
   ]
  },
  {
   "cell_type": "code",
   "execution_count": 4,
   "metadata": {},
   "outputs": [
    {
     "name": "stdout",
     "output_type": "stream",
     "text": [
      "The autoreload extension is already loaded. To reload it, use:\n",
      "  %reload_ext autoreload\n"
     ]
    }
   ],
   "source": [
    "%load_ext autoreload"
   ]
  },
  {
   "cell_type": "code",
   "execution_count": 5,
   "metadata": {},
   "outputs": [],
   "source": [
    "methods =     ['qrpmac',\n",
    "               'svdmac',\n",
    "               'lqmac',\n",
    "               'qrpnull',\n",
    "               'svdnull',\n",
    "               'lqnull',\n",
    "               'qrpmac_randcombs',\n",
    "               'svdmac_randcombs',\n",
    "               'lqmac_randcombs',\n",
    "               'qrpnull_randcombs',\n",
    "               'svdnull_randcombs',\n",
    "               'lqnull_randcombs',\n",
    "               'qrpfastnull',\n",
    "               'svdfastnull',\n",
    "               'lqfastnull']"
   ]
  },
  {
   "cell_type": "code",
   "execution_count": 6,
   "metadata": {},
   "outputs": [],
   "source": [
    "np.random.seed(0)\n",
    "deg = 4\n",
    "dim = 3\n",
    "polys = [er.polynomial.getPoly(deg,dim,power=False) for polynum in range(dim)]"
   ]
  },
  {
   "cell_type": "code",
   "execution_count": 7,
   "metadata": {},
   "outputs": [
    {
     "name": "stdout",
     "output_type": "stream",
     "text": [
      "qrpmac              \t{'max': 2.0254372917896027e-13}\n",
      "svdmac              \t{'max': 1.8285968423053002e-14}\n",
      "lqmac               \t{'max': 1.8811118860719502e-14}\n",
      "qrpnull             \t{'max': 6.27970172589564e-14}\n",
      "svdnull             \t{'max': 1.0934582254498909e-14}\n",
      "lqnull              \t{'max': 1.470147567306465e-14}\n",
      "qrpmac_randcombs    \t{'max': 2.872644901621895e-13}\n",
      "svdmac_randcombs    \t{'max': 1.2177246315510973e-13}\n",
      "lqmac_randcombs     \t{'max': 9.090237599824796e-14}\n",
      "qrpnull_randcombs   \t{'max': 1.6650466263183473e-12}\n",
      "svdnull_randcombs   \t{'max': 4.794556571245187e-13}\n",
      "lqnull_randcombs    \t{'max': 4.804787541301085e-13}\n",
      "qrpfastnull         \t{'max': 4.048102881804567e-14}\n",
      "svdfastnull         \t{'max': 1.2938073009559383e-14}\n",
      "lqfastnull          \t{'max': 8.36485431047552e-15}\n"
     ]
    }
   ],
   "source": [
    "for method in methods:\n",
    "    randcombos = method[-5:] == 'combs'\n",
    "    if randcombos: method = method[:-10]\n",
    "    roots = er.solve(polys,method=method,randcombos=randcombos)\n",
    "    rootsrt = np.argsort(roots[:,0])\n",
    "    if randcombos: method += '_randcombs'\n",
    "    print(\"{:<20}\".format(method),\n",
    "          report_residuals(polys,\n",
    "                           roots[rootsrt],\n",
    "                           kinds=['max']),\n",
    "          sep='\\t')"
   ]
  },
  {
   "cell_type": "code",
   "execution_count": null,
   "metadata": {
    "scrolled": false
   },
   "outputs": [],
   "source": [
    "#todo turn this into a function... in a way that's easy to run on the server\n",
    "dims = [2,3]\n",
    "degs = np.arange(2,8)\n",
    "numdegs = len(degs)\n",
    "nummethods = len(methods)\n",
    "avgresiduals = np.zeros((dim,nummethods,numdegs))\n",
    "negmeanlog10s = np.zeros((dim,nummethods,numdegs))\n",
    "maxresiduals = np.zeros((dim,nummethods,numdegs))\n",
    "timing = np.zeros((dim,nummethods,numdegs))\n",
    "for dim in dims:\n",
    "    for deg in degs:\n",
    "        data = run_tests(deg,dim,methods=methods)\n",
    "        for methodnum,method in enumerate(methods):\n",
    "            avgresiduals[dim-min(dims),methodnum,deg-min(degs)] = np.mean(data[method]['raw'])\n",
    "            negmeanlog10s[dim-min(dims),methodnum,deg-min(degs)] = np.mean(data[method]['log10'])\n",
    "            maxresiduals[dim-min(dims),methodnum,deg-min(degs)] = np.max(data[method]['max'])\n",
    "            timing[dim-min(dims),methodnum,deg-min(degs)] = np.mean(data[method]['time'])"
   ]
  },
  {
   "cell_type": "code",
   "execution_count": null,
   "metadata": {},
   "outputs": [],
   "source": [
    "alpha = .75\n",
    "dim = 2\n",
    "skipmethods = {'qrpmac',\n",
    "               'qrpmac_randcombs',\n",
    "               'qrpnull_randcombs',\n",
    "               'qrpnull',\n",
    "               'qrpfastnull',\n",
    "               'lqmac_randcombs',\n",
    "               'svdmac_randcombs',\n",
    "               'lqnull_randcombs',\n",
    "               'svdnull_randcombs',\n",
    "#                'svdmac',\n",
    "#                'lqmac'\n",
    "                }\n",
    "colors = [f'C{i}' for i in range(10)]+['k','coral','grey','navy','chartreuse']\n",
    "assert len(colors) >= len(methods),(len(colors),len(methods))\n",
    "data = [avgresiduals[dim-2],10**negmeanlog10s[dim-2],maxresiduals[dim-2],timing[dim-2]]\n",
    "datanames = ['avgresiduals','average log residuals','maxresiduals','timing']\n",
    "for data,dataname in zip(data,datanames):\n",
    "    plt.figure(figsize=(7,7))\n",
    "    for methodnum,(method,color) in enumerate(zip(methods,colors)):\n",
    "        if method in skipmethods:\n",
    "            continue\n",
    "        plt.semilogy(degs,\n",
    "                     data[methodnum],\n",
    "                     color,\n",
    "                     label=method,\n",
    "                     alpha=alpha)\n",
    "    plt.title(dataname)\n",
    "    plt.legend()\n",
    "    plt.show()"
   ]
  },
  {
   "cell_type": "code",
   "execution_count": null,
   "metadata": {},
   "outputs": [],
   "source": []
  }
 ],
 "metadata": {
  "kernelspec": {
   "display_name": "Python 3",
   "language": "python",
   "name": "python3"
  },
  "language_info": {
   "codemirror_mode": {
    "name": "ipython",
    "version": 3
   },
   "file_extension": ".py",
   "mimetype": "text/x-python",
   "name": "python",
   "nbconvert_exporter": "python",
   "pygments_lexer": "ipython3",
   "version": "3.7.6"
  },
  "varInspector": {
   "cols": {
    "lenName": 16,
    "lenType": 16,
    "lenVar": 40
   },
   "kernels_config": {
    "python": {
     "delete_cmd_postfix": "",
     "delete_cmd_prefix": "del ",
     "library": "var_list.py",
     "varRefreshCmd": "print(var_dic_list())"
    },
    "r": {
     "delete_cmd_postfix": ") ",
     "delete_cmd_prefix": "rm(",
     "library": "var_list.r",
     "varRefreshCmd": "cat(var_dic_list()) "
    }
   },
   "types_to_exclude": [
    "module",
    "function",
    "builtin_function_or_method",
    "instance",
    "_Feature"
   ],
   "window_display": false
  }
 },
 "nbformat": 4,
 "nbformat_minor": 4
}
